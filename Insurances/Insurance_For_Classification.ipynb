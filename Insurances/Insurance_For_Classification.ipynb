{
 "cells": [
  {
   "cell_type": "markdown",
   "metadata": {},
   "source": [
    "# Insurance for classification - Short Version (Without EDA and only with final model)"
   ]
  },
  {
   "cell_type": "markdown",
   "metadata": {},
   "source": [
    "## Problem description"
   ]
  },
  {
   "attachments": {},
   "cell_type": "markdown",
   "metadata": {},
   "source": [
    "Your task is to apply various ML algorithms (see the rules below) to build a model explaining travel insurance claim outcomes based on the training sample and generate predictions for all observations from the test sample.\n",
    "\n",
    "The dataset includes travel insurance policy records with the following columns:\n",
    "\n",
    "- reward – Commission value earned on the insurance sale\n",
    "\n",
    "- claim_status – Target variable (0 = Not Approved, 1 = Approved) Only in training sample\n",
    "\n",
    "- person_gender – Gender identifier of the insured person\n",
    "\n",
    "- entity_type – Type of selling entity\n",
    "\n",
    "- channel – Distribution channel used\n",
    "\n",
    "- support_interactions – Number of customer service interactions\n",
    "\n",
    "- agent_id – Identifier for the selling agent\n",
    "\n",
    "- customer_score – Computed value between 0-1 based on customer metrics\n",
    "\n",
    "- entity_a – Identifier of the agency that sold the policy\n",
    "\n",
    "- person_age – Age of the insured person\n",
    "\n",
    "- location – Destination of the trip\n",
    "\n",
    "- revenue – Net sales value of the policy (when <0 it covers discounts)\n",
    "\n",
    "- product_id – Name of the insurance product\n",
    "\n",
    "- trip_length – Duration of the insured trip in days"
   ]
  },
  {
   "cell_type": "markdown",
   "metadata": {},
   "source": [
    "## File description"
   ]
  },
  {
   "attachments": {},
   "cell_type": "markdown",
   "metadata": {},
   "source": [
    "- insurance_train.csv – training data contains 56993 observations and 14 columns along with the target variable claim_status\n",
    "\n",
    "- insurance_test.csv – test data contains 6333 observations and 13 columns without the target variable"
   ]
  },
  {
   "cell_type": "markdown",
   "metadata": {},
   "source": [
    "## Requirements"
   ]
  },
  {
   "cell_type": "markdown",
   "metadata": {},
   "source": [
    "### Exploratory Data Analysis:\n",
    "- Analyze the dataset to identify key patterns, correlations, and potential challenges introduced by the additional variables.\n",
    "- Visualize distributions and relationships among variables.\n",
    "### Feature Engineering:\n",
    "- Consider transformation or scaling of variables as needed. \n",
    "- Evaluate the impact of the supplementary variables on model performance.\n",
    "### Modeling:\n",
    "- Build, train, and compare multiple regression models. \n",
    "- Optimize model hyperparameters using cross-validation.\n",
    "### Predictions:\n",
    "- Generate predictions for all observations in the test dataset. \n",
    "- Document model performance and reasoning behind the selected approach.\n",
    "### Documentation:\n",
    "- Provide a clear explanation of your analysis, modeling choices, and any challenges faced while integrating the additional variables.\n",
    "## Various algorithms\n",
    "For each of the datasets please consider and compare at least 3 different ML algorithms discussed in the ML1 course (e.g. linear/logistic regression, KNN, LASSO, ridge, elastic net, SVM/SVR with various kernel functions). You can also apply in addition any other algorithms you know, but they cannot be used instead of the ones mentioned before.\n",
    "\n",
    "## Selection of the best algorithm\n",
    "The choice of the final algorithm applied to generate predictions should be clearly explained in the presentation.\n",
    "\n",
    "HINT !!!!! Use the internal division of the training data into train/validation/test samples to make sure that you correcly assess the performance of your models on the new data.\n",
    "\n",
    "## Performance measure\n",
    "The performance of predictions will be based on:\n",
    "\n",
    "RMSE for the appartments dataset\n",
    "balanced accuracy for the insurance dataset\n",
    "Please report the expected value of a particular performance measure (expectation for the test sample) in your presentation."
   ]
  },
  {
   "cell_type": "markdown",
   "metadata": {},
   "source": [
    "#### Dependencies loading"
   ]
  },
  {
   "cell_type": "code",
   "execution_count": 1,
   "metadata": {
    "ExecuteTime": {
     "end_time": "2020-06-02T23:21:55.820050Z",
     "start_time": "2020-06-02T23:21:51.970999Z"
    },
    "tags": [
     "Adding Libraries"
    ]
   },
   "outputs": [],
   "source": [
    "from pathlib import Path\n",
    "import numpy as np\n",
    "import pandas as pd\n",
    "import matplotlib.pyplot as plt\n",
    "import seaborn as sns\n",
    "import scipy.stats as stats\n",
    "from IPython.display import display, HTML\n",
    "\n",
    "# Statistical modeling\n",
    "import statsmodels.api as sm\n",
    "from statsmodels.formula.api import ols\n",
    "from statsmodels.stats.multicomp import pairwise_tukeyhsd\n",
    "\n",
    "# Scikit-learn components\n",
    "from sklearn.base import clone\n",
    "from sklearn.compose import ColumnTransformer\n",
    "from sklearn.impute import SimpleImputer\n",
    "from sklearn.metrics import (\n",
    "    balanced_accuracy_score,\n",
    "    classification_report,\n",
    "    roc_auc_score,\n",
    "    ConfusionMatrixDisplay\n",
    ")\n",
    "from sklearn.model_selection import GridSearchCV, train_test_split\n",
    "from sklearn.pipeline import Pipeline, make_pipeline\n",
    "from sklearn.preprocessing import (\n",
    "    FunctionTransformer, \n",
    "    OneHotEncoder, \n",
    "    PowerTransformer, \n",
    "    StandardScaler\n",
    ")\n",
    "from sklearn.linear_model import LogisticRegression\n",
    "from sklearn.neighbors import KNeighborsClassifier\n",
    "from sklearn.svm import SVC\n",
    "from sklearn.utils import resample\n",
    "\n",
    "# Category encoders and imbalance handling\n",
    "from category_encoders import TargetEncoder\n",
    "from imblearn.pipeline import Pipeline as ImbPipeline\n",
    "from imblearn.over_sampling import SMOTENC\n",
    "\n",
    "# Settings\n",
    "pd.set_option(\"display.max_columns\", 500)\n",
    "np.random.seed(2115)"
   ]
  },
  {
   "attachments": {},
   "cell_type": "markdown",
   "metadata": {},
   "source": [
    "#### Path setup"
   ]
  },
  {
   "cell_type": "markdown",
   "metadata": {},
   "source": [
    "Creating paths for project files\n",
    "```python"
   ]
  },
  {
   "cell_type": "code",
   "execution_count": null,
   "metadata": {},
   "outputs": [],
   "source": [
    "raw_input_data_path = r\"C:\\Users\\wojci\\Desktop\\Machine Learning\\MachineLearning1\\Insurances\\data_input\""
   ]
  },
  {
   "cell_type": "markdown",
   "metadata": {},
   "source": [
    "## FEATURE ENGINEERING"
   ]
  },
  {
   "cell_type": "markdown",
   "metadata": {},
   "source": [
    "#### Grouping categorical variables"
   ]
  },
  {
   "cell_type": "markdown",
   "metadata": {},
   "source": [
    "Purpose and Significance:\n",
    "\n",
    "- Feature Engineering: The primary purpose of this code is to create new, potentially more informative features from existing data. Categorizing countries into regions and products into broader categories can help machine learning models generalize better and can also simplify exploratory data analysis.\n",
    "- Data Standardization\n",
    "- Handling Variability: The functions provide a structured way to manage a large number of unique country names or product IDs by grouping them.\n",
    "- Interpretability: Using categories like 'europe' or 'TravelShield' can be more interpretable in analyses and model explanations than using individual country or product names.\n",
    "- Context for Previous Analyses: This code explains how the region and product_category variables, which were analyzed in the previously provided images showing their distribution against claim status, were derived."
   ]
  },
  {
   "cell_type": "code",
   "execution_count": 3,
   "metadata": {},
   "outputs": [],
   "source": [
    "# Load data\n",
    "df = pd.read_csv(f\"{raw_input_data_path}/insurance_train.csv\")\n",
    "\n",
    "# Data transformations\n",
    "\n",
    "def map_country_to_region(country):\n",
    "    \"\"\"\n",
    "    Categorizes countries into geographic regions.\n",
    "    \n",
    "    Args:\n",
    "        country (str): Country name to be categorized\n",
    "        \n",
    "    Returns:\n",
    "        str: Region name (europe, asia, oceania, america, africa, other)\n",
    "    \"\"\"\n",
    "    # Define country groupings by region\n",
    "    europe = [\n",
    "        'spain', 'croatia', 'finland', 'united kingdom', 'netherlands', 'switzerland',\n",
    "        'france', 'denmark', 'russian federation', 'greece', 'romania', 'germany',\n",
    "        'cyprus', 'ukraine', 'serbia', 'italy', 'portugal', 'belgium', 'sweden',\n",
    "        'norway', 'austria', 'iceland', 'poland', 'czech republic', 'ireland',\n",
    "        'republic of montenegro', 'slovenia', 'malta', 'lithuania', 'latvia',\n",
    "        'macedonia, the former yugoslav republic of', 'albania', 'luxembourg',\n",
    "        'estonia', 'hungary', 'bulgaria', 'belarus', 'bosnia and herzegovina'\n",
    "    ]\n",
    "    \n",
    "    asia = [\n",
    "        'thailand', 'viet nam', 'malaysia', 'indonesia', 'china',\n",
    "        'taiwan, province of china', 'cambodia', 'india', 'philippines', 'myanmar',\n",
    "        'united arab emirates', 'hong kong', 'japan', 'sri lanka', 'brunei darussalam',\n",
    "        'korea, republic of', 'turkey', 'israel', 'bangladesh', 'macao', 'mongolia',\n",
    "        \"lao people's democratic republic\", 'nepal', 'pakistan', 'qatar', 'maldives',\n",
    "        'bahrain', 'saudi arabia', 'jordan', 'uzbekistan', 'kazakhstan', 'azerbaijan',\n",
    "        'georgia', 'lebanon', 'kyrgyzstan', 'tunisia', 'tibet', 'iran, islamic republic of',\n",
    "        'bhutan', 'tajikistan', 'armenia', 'turkmenistan', 'singapore'\n",
    "    ]\n",
    "    \n",
    "    oceania = [\n",
    "        'australia', 'new zealand', 'fiji', 'vanuatu', 'guam', 'solomon islands',\n",
    "        'french polynesia', 'new caledonia', 'samoa', 'papua new guinea'\n",
    "    ]\n",
    "    \n",
    "    america = [\n",
    "        'united states', 'brazil', 'canada', 'peru', 'colombia', 'mexico',\n",
    "        'puerto rico', 'argentina', 'costa rica', 'bolivia', 'venezuela', 'guadeloupe',\n",
    "        'bermuda', 'panama', 'jamaica', 'trinidad and tobago', 'dominican republic',\n",
    "        'ecuador', 'northern mariana islands', 'guatemala', 'cayman islands',\n",
    "        'barbados', 'uruguay', 'chile', 'virgin islands, u.s.'\n",
    "    ]\n",
    "    \n",
    "    africa = [\n",
    "        'kenya', 'morocco', 'zambia', 'ghana', 'ethiopia', 'uganda', 'nigeria',\n",
    "        'namibia', 'south africa', 'tanzania, united republic of', 'egypt',\n",
    "        'cameroon', 'zimbabwe', 'senegal', 'mauritius', 'botswana', 'mali',\n",
    "        'angola', 'sierra leone', 'guinea', 'guinea-bissau', 'rwanda'\n",
    "    ]\n",
    "\n",
    "    other = [\n",
    "        'reunion', 'macedonia, the former yugoslav republic of', 'moldova, republic of'\n",
    "    ]\n",
    "    \n",
    "    # Return the appropriate region\n",
    "    country = country.lower()\n",
    "    if country in europe:\n",
    "        return 'europe'\n",
    "    elif country in asia:\n",
    "        return 'asia'\n",
    "    elif country in oceania:\n",
    "        return 'oceania'\n",
    "    elif country in america:\n",
    "        return 'america'\n",
    "    elif country in africa:\n",
    "        return 'africa'\n",
    "    else:\n",
    "        return 'other'\n",
    "\n",
    "# Apply country-to-region mapping\n",
    "df['region'] = df['location'].str.lower().map(map_country_to_region)\n",
    "\n",
    "def map_product_to_category(product_name):\n",
    "    \"\"\"\n",
    "    Categorizes insurance products into product families.\n",
    "    \n",
    "    Args:\n",
    "        product_name (str): Product name to be categorized\n",
    "        \n",
    "    Returns:\n",
    "        str: Product category name\n",
    "    \"\"\"\n",
    "    # Define product groupings by category\n",
    "    secure_plan = [\n",
    "        'SecurePlan Flex',\n",
    "        'SecurePlan OneWay',\n",
    "        'SecurePlan Annual Lite',\n",
    "        'SecurePlan Standard',\n",
    "        'SecurePlan Individual',\n",
    "        'SecurePlan Family',\n",
    "        'SecurePlan Junior'\n",
    "    ]\n",
    "    \n",
    "    travel_shield = [\n",
    "        'TravelShield Basic',\n",
    "        'TravelShield Core',\n",
    "        'TravelShield Plus',\n",
    "        'TravelShield Value',\n",
    "        'TravelShield Premium',\n",
    "        'TravelShield Elite',\n",
    "        'TravelShield Annual Pro'\n",
    "    ]\n",
    "    \n",
    "    trip_guard = [\n",
    "        'TripGuard Cancel',\n",
    "        'TripGuard TicketCover',\n",
    "        'TripGuard Plus',\n",
    "        'TripGuard Pro',\n",
    "        'TripGuard Max',\n",
    "        'TripGuard Annual Lite',\n",
    "        'TripGuard Annual Pro',\n",
    "        'TripGuard Annual Max'\n",
    "    ]\n",
    "    \n",
    "    cruise_safe = [\n",
    "        'CruiseSafe Trip',\n",
    "        'CruiseSafe Family'\n",
    "    ]\n",
    "    \n",
    "    other_products = [\n",
    "        'DriveSafe Rental Addon',\n",
    "        'QuickProtect 24'\n",
    "    ]\n",
    "    \n",
    "    # Map product to its category\n",
    "    if product_name in secure_plan:\n",
    "        return 'SecurePlan'\n",
    "    elif product_name in travel_shield:\n",
    "        return 'TravelShield'\n",
    "    elif product_name in trip_guard:\n",
    "        return 'TripGuard'\n",
    "    elif product_name in cruise_safe:\n",
    "        return 'CruiseSafe'\n",
    "    elif product_name in other_products:\n",
    "        return 'Other'\n",
    "    else:\n",
    "        return 'Unknown'  # Handle any unexpected products\n",
    "\n",
    "# Apply product categorization\n",
    "df['product_category'] = df['product_id'].apply(map_product_to_category)\n",
    "\n",
    "# Creating the binary categorical variable\n",
    "df['reward_zero'] = df['reward'].apply(lambda x: 1 if x == 0 else 0).astype('category')\n",
    "\n",
    "# Let's create a new column for the trip length 2 possibilities category - if trip_length is over 300\n",
    "df['trip_length_category'] = df['trip_length'].apply(lambda x: 1 if x > 300 else 0).astype('category')\n",
    "\n"
   ]
  },
  {
   "cell_type": "markdown",
   "metadata": {},
   "source": [
    "#### Dividing dataset into 3 parts"
   ]
  },
  {
   "cell_type": "markdown",
   "metadata": {},
   "source": [
    "Significance in Machine Learning Workflow:\n",
    "\n",
    "- Unbiased Evaluation: Separating data into these distinct sets (train, validation, test) is fundamental for building robust machine learning models. It allows for training the model on one portion of data, tuning it on another, and finally, evaluating its true generalization performance on completely unseen data.\n",
    "- Preventing Data Leakage: By keeping the test set separate and untouched until the final evaluation, it prevents information from the test set inadvertently influencing the model training or selection process, which could lead to an overly optimistic performance estimate.\n",
    "- Hyperparameter Tuning: The validation set plays a key role in selecting the best hyperparameters for a model without \"contaminating\" the test set.\n",
    "- Importance of Stratification: For imbalanced datasets like the one indicated for claim_status, stratification is crucial. Without it, random splits could lead to validation or test sets that poorly represent the minority class, making model evaluation unreliable for that class."
   ]
  },
  {
   "cell_type": "code",
   "execution_count": 4,
   "metadata": {},
   "outputs": [
    {
     "name": "stdout",
     "output_type": "stream",
     "text": [
      "Dataset sizes:\n",
      "Train: (39895, 17)\n",
      "Validation: (8549, 17)\n",
      "Test: (8549, 17)\n",
      "\n",
      "Missing value counts:\n",
      "Training set: 0 missing values\n",
      "Validation set: 0 missing values\n",
      "Test set: 0 missing values\n"
     ]
    }
   ],
   "source": [
    "# Prepare features and target variable\n",
    "X = df.drop(columns=['claim_status'])  # All features except target\n",
    "y = df['claim_status']  # Target variable\n",
    "\n",
    "# Initial split: 70% training, 30% temporary holdout (stratified)\n",
    "X_train, X_temp, y_train, y_temp = train_test_split(\n",
    "    X, \n",
    "    y, \n",
    "    test_size=0.30, \n",
    "    stratify=y,  # Maintain class distribution\n",
    "    random_state=42  # Reproducibility\n",
    ")\n",
    "\n",
    "# Split temporary holdout into validation and test sets (50/50 of the 30%)\n",
    "X_val, X_test, y_val, y_test = train_test_split(\n",
    "    X_temp, \n",
    "    y_temp, \n",
    "    test_size=0.50, \n",
    "    stratify=y_temp,  # Maintain class distribution\n",
    "    random_state=42  # Reproducibility\n",
    ")\n",
    "\n",
    "# Print dataset sizes for verification\n",
    "print(f\"Dataset sizes:\")\n",
    "print(f\"Train: {X_train.shape}\")\n",
    "print(f\"Validation: {X_val.shape}\")\n",
    "print(f\"Test: {X_test.shape}\")\n",
    "\n",
    "# Check for missing values in each dataset\n",
    "print(\"\\nMissing value counts:\")\n",
    "print(f\"Training set: {X_train.isna().sum().sum()} missing values\")\n",
    "print(f\"Validation set: {X_val.isna().sum().sum()} missing values\")\n",
    "print(f\"Test set: {X_test.isna().sum().sum()} missing values\")"
   ]
  },
  {
   "cell_type": "markdown",
   "metadata": {},
   "source": [
    "#### Feature processing pipeline configuration"
   ]
  },
  {
   "cell_type": "markdown",
   "metadata": {},
   "source": [
    "##### Configuration for logistic regression"
   ]
  },
  {
   "cell_type": "markdown",
   "metadata": {},
   "source": [
    "Version to be used for logistic regression, Random Forest and XGBoost. All those are able to handle categorical variables. Grouping them, in case of countries and products resulted in worse results of the models, so I decided to use them as they are. Rest of the transformations will remain the same. I decided to use log transformation for revenue, reward, trip_length, age and customer_score variables - featuring also the securement for 0 values. For all the categorical variables I decided to go with target encoding, as during the tests it was giving better results than one-hot encoding."
   ]
  },
  {
   "cell_type": "code",
   "execution_count": 5,
   "metadata": {},
   "outputs": [],
   "source": [
    "# Columns to apply log transformation\n",
    "log_cols = ['reward', 'revenue', 'person_age', 'trip_length', 'customer_score']\n",
    "\n",
    "# Columns for target encoding (high-cardinality categorical features)\n",
    "target_cols = ['entity_type', 'person_gender', 'agent_id', 'product_id', \n",
    "              'location', 'support_interactions', 'entity_a', 'channel']\n",
    "\n",
    "# Safe log transformation to handle negative values\n",
    "def safe_log1p(x):\n",
    "    \"\"\"Apply log1p transformation with protection against negative values\"\"\"\n",
    "    x = np.where(x < 0, 1e-10, x)  # Replace negatives with small positive value\n",
    "    return np.log1p(x)\n",
    "\n",
    "# Pipeline for log-transformed features\n",
    "log_transformer = Pipeline(steps=[\n",
    "    ('log', FunctionTransformer(safe_log1p, feature_names_out='one-to-one')),\n",
    "    ('scaler', StandardScaler())  # Standardize features after log transform\n",
    "])\n",
    "\n",
    "# Pipeline for target-encoded categorical features\n",
    "target_transformer = Pipeline(steps=[\n",
    "    ('imputer', SimpleImputer(strategy='most_frequent')),  # Handle missing values\n",
    "    ('target', TargetEncoder()),  # Encode high-cardinality categories\n",
    "])\n",
    "\n",
    "# Count transformed features\n",
    "n_log = len(log_cols)  # Number of log-transformed features (5)\n",
    "n_target = len(target_cols)  # Number of target-encoded features (7)\n",
    "\n",
    "# Build the complete preprocessing pipeline\n",
    "preprocessor = ColumnTransformer(transformers=[\n",
    "    ('log', log_transformer, log_cols),\n",
    "    ('target', target_transformer, target_cols),\n",
    "])\n",
    "\n",
    "# Fit preprocessor on training data\n",
    "preprocessor.fit(X_train, y_train)\n",
    "\n",
    "# Get indices of categorical features for SMOTE\n",
    "# (Target encoding produces one column per input feature)\n",
    "target_indices = list(range(n_log, n_log + n_target))\n",
    "categorical_features_indices = target_indices"
   ]
  },
  {
   "cell_type": "markdown",
   "metadata": {},
   "source": [
    "Model Training & Tuning Pipeline - The primary goal of this function is to automate the process of:\n",
    "\n",
    "- Preprocessing Data: Applying predefined preprocessing steps.\n",
    "- Addressing Class Imbalance: Using SMOTE (Synthetic Minority Over-sampling Technique) to oversample the minority class.\n",
    "- Hyperparameter Tuning: Finding the best hyperparameters for a given model using GridSearchCV.\n",
    "- Robust Evaluation: Evaluating the model's performance using balanced_accuracy_score on a separate validation set."
   ]
  },
  {
   "cell_type": "code",
   "execution_count": 6,
   "metadata": {},
   "outputs": [],
   "source": [
    "def train_and_tune_model(model, param_grid, X_train, y_train, X_val, y_val, model_name='Model'):\n",
    "    \"\"\"\n",
    "    Trains and tunes a model using GridSearchCV with SMOTE for imbalanced data.\n",
    "    \n",
    "    Args:\n",
    "        model: Base classifier model\n",
    "        param_grid: Dictionary of hyperparameters to tune\n",
    "        X_train: Training features\n",
    "        y_train: Training labels\n",
    "        X_val: Validation features\n",
    "        y_val: Validation labels\n",
    "        model_name: Name for model identification\n",
    "        \n",
    "    Returns:\n",
    "        best_estimator: The best performing model from GridSearchCV\n",
    "    \"\"\"\n",
    "    \n",
    "    # Create pipeline with preprocessing, SMOTE, and classifier\n",
    "    pipeline = ImbPipeline(steps=[\n",
    "        ('preprocessing', preprocessor),  # Data preprocessing steps\n",
    "        ('smote', SMOTENC(categorical_features=categorical_features_indices, random_state=42)),  # Handle class imbalance\n",
    "        ('classifier', model)  # Classifier model\n",
    "    ])\n",
    "\n",
    "    # Configure GridSearchCV for hyperparameter tuning\n",
    "    grid = GridSearchCV(\n",
    "        pipeline,\n",
    "        param_grid={'classifier__' + k: v for k, v in param_grid.items()},  # Add classifier prefix to params\n",
    "        scoring='balanced_accuracy',  # Metric for evaluation\n",
    "        error_score='raise',  # Raise exceptions for errors\n",
    "        cv=3,  # 5-fold cross-validation\n",
    "        n_jobs=-1,  # Use all available cores\n",
    "        verbose=1  # Show progress\n",
    "    )\n",
    "\n",
    "    # Train model with hyperparameter tuning\n",
    "    grid.fit(X_train, y_train)\n",
    "\n",
    "    # Evaluate on validation set\n",
    "    y_val_pred = grid.predict(X_val)\n",
    "    val_score = balanced_accuracy_score(y_val, y_val_pred)\n",
    "\n",
    "    # Print results\n",
    "    print(f\"{model_name} Results\")\n",
    "    print(\"Best parameters:\", grid.best_params_)\n",
    "    print(\"Validation balanced accuracy:\", round(val_score, 4))\n",
    "    print(\"=\"*50)  # Separator line\n",
    "\n",
    "    return grid.best_estimator_"
   ]
  },
  {
   "cell_type": "markdown",
   "metadata": {},
   "source": [
    "location variable analysis\n",
    "\n",
    "- Claim Status = 0 (No Claim):\n",
    "other is the most common (26.27%), followed by singapore (20.36%), malaysia (9.50%), thailand (9.39%), etc.\n",
    "- Claim Status = 1 (Claim):\n",
    "singapore is overwhelmingly dominant (60.67%), followed by other (12.95%), china (5.28%), etc.\n",
    "- location is an extremely powerful predictor. 'Singapore' which is a significant location for non-claims, becomes overwhelmingly dominant for claims. This implies that claims are highly concentrated in specific locations, with Singapore being a major hotspot. This variable will be highly influential in the model."
   ]
  },
  {
   "cell_type": "markdown",
   "metadata": {},
   "source": [
    "## MODELING"
   ]
  },
  {
   "cell_type": "markdown",
   "metadata": {},
   "source": [
    "#### Logistic Regression"
   ]
  },
  {
   "cell_type": "markdown",
   "metadata": {},
   "source": [
    "- Pipeline for Robustness: Using a pipeline (managed by train_and_tune_model) ensures that preprocessing and resampling are applied consistently and correctly within cross-validation, preventing data leakage.\n",
    "- Addressing Imbalance: Combines class_weight='balanced' in the model and SMOTENC in the pipeline, providing a two-pronged approach to tackle class imbalance.\n",
    "- Hyperparameter Tuning: Uses GridSearchCV for systematic optimization of model parameters.\n",
    "- Appropriate Evaluation Metrics: Employs balanced_accuracy_score, classification_report, and roc_auc_score, which are highly suitable for imbalanced classification problems, offering a more nuanced view than simple accuracy.\n",
    "- Validation Set for Generalization: Strictly separates training and validation data to get an unbiased estimate of real-world performance.\n",
    "- Overfitting Detection: Explicitly compares training and validation performance to diagnose potential overfitting."
   ]
  },
  {
   "cell_type": "code",
   "execution_count": 7,
   "metadata": {},
   "outputs": [
    {
     "name": "stdout",
     "output_type": "stream",
     "text": [
      "Fitting 3 folds for each of 1 candidates, totalling 3 fits\n",
      "Logistic Regression Results\n",
      "Best parameters: {'classifier__C': 0.1}\n",
      "Validation balanced accuracy: 0.7958\n",
      "==================================================\n",
      "Classification Report (Validation Set):\n",
      "              precision  recall  f1-score    support\n",
      "0                0.9959  0.8156    0.8968  8424.0000\n",
      "1                0.0588  0.7760    0.1093   125.0000\n",
      "accuracy         0.8151  0.8151    0.8151     0.8151\n",
      "macro avg        0.5274  0.7958    0.5031  8549.0000\n",
      "weighted avg     0.9822  0.8151    0.8853  8549.0000\n",
      "AUC Score (val): 0.8523\n",
      "\n",
      "Classification Report (Train Set):\n",
      "              precision  recall  f1-score     support\n",
      "0                0.9943  0.8175    0.8973  39311.0000\n",
      "1                0.0529  0.6866    0.0983    584.0000\n",
      "accuracy         0.8156  0.8156    0.8156      0.8156\n",
      "macro avg        0.5236  0.7521    0.4978  39895.0000\n",
      "weighted avg     0.9806  0.8156    0.8856  39895.0000\n",
      "AUC Score (train): 0.816\n",
      "Balanced Accuracy Score (train): 0.7521\n"
     ]
    }
   ],
   "source": [
    "# Initialize logistic regression model with balanced class weights\n",
    "log_model = LogisticRegression(max_iter=5000, class_weight='balanced', random_state=42)\n",
    "\n",
    "# Define hyperparameter grid for tuning\n",
    "log_param_grid = {\n",
    "    'C': [0.1]  # Regularization strength\n",
    "}\n",
    "\n",
    "# Train and tune the model using validation set\n",
    "best_log = train_and_tune_model(log_model, log_param_grid, X_train, y_train, X_val, y_val, model_name='Logistic Regression')\n",
    "\n",
    "# Evaluate model performance on validation set\n",
    "# Generate classification metrics (precision, recall, f1-score)\n",
    "y_val_pred = best_log.predict(X_val)\n",
    "report = classification_report(y_val, y_val_pred, output_dict=True)\n",
    "report_df = pd.DataFrame(report).transpose()\n",
    "print(\"Classification Report (Validation Set):\")\n",
    "print(report_df[['precision', 'recall', 'f1-score', 'support']].round(4))\n",
    "\n",
    "# Calculate and display AUC-ROC score\n",
    "auc_score = roc_auc_score(y_val, best_log.predict_proba(X_val)[:, 1])\n",
    "print(f\"AUC Score (val): {round(auc_score, 4)}\")\n",
    "\n",
    "# Check for potential overfitting by comparing train vs validation performance\n",
    "# Training set evaluation\n",
    "y_train_pred = best_log.predict(X_train)\n",
    "train_report = classification_report(y_train, y_train_pred, output_dict=True)\n",
    "train_report_df = pd.DataFrame(train_report).transpose()\n",
    "print(\"\\nClassification Report (Train Set):\")\n",
    "print(train_report_df[['precision', 'recall', 'f1-score', 'support']].round(4))\n",
    "\n",
    "# Training set AUC-ROC score\n",
    "train_auc_score = roc_auc_score(y_train, best_log.predict_proba(X_train)[:, 1])\n",
    "print(f\"AUC Score (train): {round(train_auc_score, 4)}\")\n",
    "\n",
    "# Calculate balanced accuracy for training set\n",
    "train_balanced_accuracy = balanced_accuracy_score(y_train, y_train_pred)\n",
    "print(f\"Balanced Accuracy Score (train): {round(train_balanced_accuracy, 4)}\")"
   ]
  },
  {
   "cell_type": "markdown",
   "metadata": {},
   "source": [
    "Strengths:\n",
    "\n",
    "- The model achieves a good balanced_accuracy (0.7964) and AUC (0.8523) on the validation set, indicating a reasonable ability to correctly classify both majority and minority classes.\n",
    "- The use of class_weight='balanced' and SMOTE has successfully improved the recall for the minority class (Class 1 recall of 78.40% is good).\n",
    "- The model does not appear to be overfitting, as validation performance is comparable to or even slightly better than training performance.\n",
    "- The optimal regularization strength (C=0.1) was successfully identified.\n",
    "\n",
    "Weaknesses/Areas for Improvement:\n",
    "\n",
    "- Low Precision for Minority Class (Class 1): This is the biggest issue. A precision of 5.73% means that for every 100 times the model predicts \"Class 1\", only about 6 of those predictions are actually correct. This leads to a high number of false positives for Class 1.\n",
    "- Low F1-score for Minority Class: The F1-score of 0.1069 confirms that the model struggles to balance precision and recall for Class 1."
   ]
  },
  {
   "cell_type": "markdown",
   "metadata": {},
   "source": [
    "Key Observations and Interpretation:\n",
    "\n",
    "Positive Coefficients: All the features shown in this plot have positive coefficients. This means that as the value of these features increases (or for categorical features, as their specific encoded level is present), the likelihood (or log-odds) of the positive class increases.\n",
    "\n",
    "Top Influential Features:\n",
    "- target__agent_id: This feature has the largest positive coefficient (around 10.5-11). This suggests that certain agent_id values (likely those encoded to contribute positively) are the single strongest indicator for the positive class.\n",
    "- target__support_interactions: Very close to target__agent_id in terms of magnitude, also around 10.5-11. This indicates that the nature or presence of certain support_interactions (again, likely specific encoded levels) is highly influential in predicting the positive class.\n",
    "- target__product_id: The third most important feature, with a coefficient around 3.5-4.\n",
    "- target__entity_type and target__person_gender: These also show significant positive influence, with coefficients around 2.0-2.5."
   ]
  },
  {
   "cell_type": "markdown",
   "metadata": {},
   "source": [
    "#### Final Model Training"
   ]
  },
  {
   "cell_type": "markdown",
   "metadata": {},
   "source": [
    "Final Model Training:\n",
    "\n",
    "- The code concatenates the original X_train and X_val (training and validation features) into a single larger dataset, and similarly for y_train and y_val. This combined dataset is then passed to the train_and_tune_model function.\n",
    "- The LogisticRegression model and its optimal log_param_grid are used.\n",
    "- Crucially, the X_val and y_val are still passed as the \"validation set\" arguments to train_and_tune_model. While this might seem redundant since X_val is now part of the training data, the train_and_tune_model function likely still uses this for internal evaluation during its GridSearchCV process (though the primary goal here is to train on X_train + X_val).\n",
    "\n",
    "Evaluation on the Unseen Test Set:\n",
    "\n",
    "- X_test and y_test: This is the most critical part. X_test and y_test represent data that the model has never seen during any part of its training or hyperparameter tuning process. This evaluation provides the most unbiased estimate of the model's real-world generalization ability.\n",
    "- y_test_pred = best_model.predict(X_test): The trained best_model (which is likely the ImbPipeline with the best LogisticRegression estimator) makes predictions on the test set.\n",
    "- y_test_proba = best_model.predict_proba(X_test)[:, 1]: This extracts the predicted probabilities for the positive class (class 1), which are needed for metrics like AUC-ROC.\n",
    "- \n",
    "Performance Reporting:\n",
    "\n",
    "- classification_report(y_test, y_test_pred): A detailed classification report is printed, showing precision, recall, F1-score, and support for each class on the test set. This is essential for understanding the model's performance on the imbalanced data.\n",
    "- roc_auc_score(y_test, y_test_proba): The AUC-ROC score is calculated and printed, providing a single metric of the model's ability to discriminate between positive and negative classes, robust to class imbalance.\n",
    "  \n",
    "Confusion Matrix Visualization:\n",
    "\n",
    "- ConfusionMatrixDisplay.from_predictions(y_test, y_test_pred): A confusion matrix is generated and displayed. This visual tool breaks down the predictions into:\n",
    "True Positives (TP): Correctly predicted positive instances.\n",
    "True Negatives (TN): Correctly predicted negative instances.\n",
    "False Positives (FP): Incorrectly predicted positive instances (Type I error).\n",
    "False Negatives (FN): Incorrectly predicted negative instances (Type II error).\n",
    "The confusion matrix provides a clear, granular view of where the model is succeeding and failing, which is especially important for understanding performance on the minority class in imbalanced datasets."
   ]
  },
  {
   "cell_type": "code",
   "execution_count": 8,
   "metadata": {},
   "outputs": [
    {
     "name": "stdout",
     "output_type": "stream",
     "text": [
      "Fitting 3 folds for each of 1 candidates, totalling 3 fits\n",
      "Final Model Results\n",
      "Best parameters: {'classifier__C': 0.1}\n",
      "Validation balanced accuracy: 0.8046\n",
      "==================================================\n",
      "FINAL RESULTS ON TEST SET\n",
      "              precision    recall  f1-score   support\n",
      "\n",
      "           0       0.99      0.83      0.91      8424\n",
      "           1       0.05      0.64      0.10       125\n",
      "\n",
      "    accuracy                           0.83      8549\n",
      "   macro avg       0.52      0.74      0.50      8549\n",
      "weighted avg       0.98      0.83      0.89      8549\n",
      "\n",
      "AUC-ROC: 0.7924\n"
     ]
    },
    {
     "data": {
      "image/png": "[encoded data removed]",
      "text/plain": [
       "<Figure size 640x480 with 2 Axes>"
      ]
     },
     "metadata": {},
     "output_type": "display_data"
    }
   ],
   "source": [
    "# Train the best model on full training data (train + val)\n",
    "best_model = train_and_tune_model(\n",
    "    log_model, log_param_grid, \n",
    "    pd.concat([X_train, X_val]),  # Combine train and val\n",
    "    pd.concat([y_train, y_val]), \n",
    "    X_val,\n",
    "    y_val,\n",
    "    model_name=\"Final Model\"\n",
    ")\n",
    "\n",
    "# Evaluation on test set (which was NEVER used before)\n",
    "y_test_pred = best_model.predict(X_test)\n",
    "y_test_proba = best_model.predict_proba(X_test)[:, 1]  # For metrics like AUC-ROC\n",
    "\n",
    "# Generate report\n",
    "from sklearn.metrics import classification_report, roc_auc_score\n",
    "\n",
    "print(\"FINAL RESULTS ON TEST SET\")\n",
    "print(classification_report(y_test, y_test_pred))\n",
    "print(f\"AUC-ROC: {roc_auc_score(y_test, y_test_proba):.4f}\")\n",
    "\n",
    "\n",
    "# Confusion matrix\n",
    "from sklearn.metrics import ConfusionMatrixDisplay\n",
    "ConfusionMatrixDisplay.from_predictions(y_test, y_test_pred)\n",
    "plt.show()"
   ]
  },
  {
   "cell_type": "code",
   "execution_count": 9,
   "metadata": {},
   "outputs": [
    {
     "name": "stdout",
     "output_type": "stream",
     "text": [
      "Training final model (LogisticRegression with C=0.1) on combined training and validation data...\n",
      "Training completed.\n",
      "\n",
      "=== EVALUATION ON TEST SET ===\n",
      "\n",
      "CLASSIFICATION REPORT (Test Set):\n",
      "              precision    recall  f1-score   support\n",
      "\n",
      "           0       0.99      0.83      0.91      8424\n",
      "           1       0.05      0.64      0.10       125\n",
      "\n",
      "    accuracy                           0.83      8549\n",
      "   macro avg       0.52      0.74      0.50      8549\n",
      "weighted avg       0.98      0.83      0.89      8549\n",
      "\n",
      "AUC-ROC SCORE (Test Set): 0.7924\n",
      "\n",
      "Confusion Matrix (Test Set):\n"
     ]
    },
    {
     "data": {
      "image/png": "[encoded data removed]",
      "text/plain": [
       "<Figure size 640x480 with 2 Axes>"
      ]
     },
     "metadata": {},
     "output_type": "display_data"
    },
    {
     "name": "stdout",
     "output_type": "stream",
     "text": [
      "Balanced Accuracy (Test Set): 0.7355\n"
     ]
    }
   ],
   "source": [
    "# Best value for C set to 0.1\n",
    "final_C_value = 0.1\n",
    "\n",
    "# Initialize logistic regression model with best C parameter\n",
    "# Note: class_weight='balanced' and random_state=42 are very important for imbalanced data and reproducibility\n",
    "final_log_model = LogisticRegression(\n",
    "    max_iter=5000,\n",
    "    class_weight='balanced',\n",
    "    random_state=42,\n",
    "    C=final_C_value  # Using best C = 0.1\n",
    ")\n",
    "\n",
    "final_pipeline = ImbPipeline(steps=[\n",
    "    ('preprocessing', preprocessor),  # Your defined preprocessor\n",
    "    ('smote', SMOTENC(categorical_features=categorical_features_indices, random_state=42)),  # Make sure categorical_features_indices is correct\n",
    "    ('classifier', final_log_model)\n",
    "])\n",
    "\n",
    "# === Combining training and validation data for final training ===\n",
    "# This is a key step: we combine X_train and X_val to train the final model on more data.\n",
    "X_combined_train_val = pd.concat([X_train, X_val], ignore_index=True)\n",
    "y_combined_train_val = pd.concat([y_train, y_val], ignore_index=True)\n",
    "\n",
    "print(f\"Training final model ({final_log_model.__class__.__name__} with C={final_C_value}) on combined training and validation data...\")\n",
    "final_pipeline.fit(X_combined_train_val, y_combined_train_val)\n",
    "print(\"Training completed.\")\n",
    "\n",
    "# === Evaluation on the test set (NEVER used before) ===\n",
    "print(\"\\n=== EVALUATION ON TEST SET ===\")\n",
    "y_test_pred = final_pipeline.predict(X_test)\n",
    "y_test_proba = final_pipeline.predict_proba(X_test)[:, 1]  # Probabilities for the positive class (1)\n",
    "\n",
    "# Generate classification report\n",
    "print(\"\\nCLASSIFICATION REPORT (Test Set):\")\n",
    "print(classification_report(y_test, y_test_pred))\n",
    "\n",
    "# Calculate and display AUC-ROC score\n",
    "auc_score_test = roc_auc_score(y_test, y_test_proba)\n",
    "print(f\"AUC-ROC SCORE (Test Set): {auc_score_test:.4f}\")\n",
    "\n",
    "# Confusion matrix\n",
    "print(\"\\nConfusion Matrix (Test Set):\")\n",
    "ConfusionMatrixDisplay.from_predictions(y_test, y_test_pred)\n",
    "plt.title(\"Confusion Matrix on Test Set\")\n",
    "plt.show()\n",
    "\n",
    "# Optional: Balanced accuracy on the test set\n",
    "from sklearn.metrics import balanced_accuracy_score\n",
    "balanced_acc_test = balanced_accuracy_score(y_test, y_test_pred)\n",
    "print(f\"Balanced Accuracy (Test Set): {balanced_acc_test:.4f}\")\n"
   ]
  },
  {
   "cell_type": "markdown",
   "metadata": {},
   "source": [
    "## PREDICTIONS"
   ]
  },
  {
   "cell_type": "markdown",
   "metadata": {},
   "source": [
    "#### Predictions for all observations in test dataset - as there wasn't observation id in the test dataset I decided to produce full csv"
   ]
  },
  {
   "cell_type": "code",
   "execution_count": 11,
   "metadata": {},
   "outputs": [
    {
     "name": "stdout",
     "output_type": "stream",
     "text": [
      "Test data with predictions preview:\n"
     ]
    },
    {
     "data": {
      "application/vnd.microsoft.datawrangler.viewer.v0+json": {
       "columns": [
        {
         "name": "index",
         "rawType": "int64",
         "type": "integer"
        },
        {
         "name": "reward",
         "rawType": "float64",
         "type": "float"
        },
        {
         "name": "person_gender",
         "rawType": "object",
         "type": "string"
        },
        {
         "name": "entity_type",
         "rawType": "object",
         "type": "string"
        },
        {
         "name": "channel",
         "rawType": "object",
         "type": "string"
        },
        {
         "name": "support_interactions",
         "rawType": "int64",
         "type": "integer"
        },
        {
         "name": "agent_id",
         "rawType": "object",
         "type": "string"
        },
        {
         "name": "customer_score",
         "rawType": "float64",
         "type": "float"
        },
        {
         "name": "entity_a",
         "rawType": "object",
         "type": "string"
        },
        {
         "name": "person_age",
         "rawType": "int64",
         "type": "integer"
        },
        {
         "name": "location",
         "rawType": "object",
         "type": "string"
        },
        {
         "name": "revenue",
         "rawType": "float64",
         "type": "float"
        },
        {
         "name": "product_id",
         "rawType": "object",
         "type": "string"
        },
        {
         "name": "trip_length",
         "rawType": "int64",
         "type": "integer"
        },
        {
         "name": "claim_proba",
         "rawType": "float64",
         "type": "float"
        },
        {
         "name": "claim_pred",
         "rawType": "int64",
         "type": "integer"
        }
       ],
       "ref": "522c6a54-e54f-47d8-bb99-12a77d0f0801",
       "rows": [
        [
         "0",
         "84.31631958375463",
         "9b2d5b46",
         "type_a",
         "web",
         "2",
         "agt_0001",
         "0.0092573756882853",
         "96d6c6df",
         "31",
         "ireland",
         "-141.71623889572894",
         "DriveSafe Rental Addon",
         "73",
         "0.14903956410478167",
         "0"
        ],
        [
         "1",
         "45.88436328198128",
         "9b2d5b46",
         "type_a",
         "web",
         "0",
         "agt_0001",
         "0.1080490041584043",
         "96d6c6df",
         "29",
         "australia",
         "82.22526773180692",
         "DriveSafe Rental Addon",
         "25",
         "0.5864189138853887",
         "1"
        ],
        [
         "2",
         "0.0",
         "9b2d5b46",
         "type_a",
         "web",
         "2",
         "agt_0004",
         "0.1088136742091207",
         "50b3e71e",
         "26",
         "indonesia",
         "10.247117535320594",
         "TripGuard Cancel",
         "6",
         "0.1867417194871929",
         "0"
        ],
        [
         "3",
         "29.363482356044088",
         "f67ab10a",
         "type_b",
         "web",
         "1",
         "agt_0002",
         "0.2155048901524036",
         "7b5dbb09",
         "32",
         "france",
         "83.48324677872543",
         "TravelShield Value",
         "73",
         "0.5892377011266857",
         "1"
        ],
        [
         "4",
         "12.44095063630926",
         "08f27188",
         "type_b",
         "web",
         "0",
         "agt_0005",
         "0.1947979143187817",
         "99ede4e4",
         "26",
         "singapore",
         "46.679371892640816",
         "TravelShield Plus",
         "32",
         "0.7867321255010746",
         "1"
        ]
       ],
       "shape": {
        "columns": 15,
        "rows": 5
       }
      },
      "text/html": [
       "<div>\n",
       "<style scoped>\n",
       "    .dataframe tbody tr th:only-of-type {\n",
       "        vertical-align: middle;\n",
       "    }\n",
       "\n",
       "    .dataframe tbody tr th {\n",
       "        vertical-align: top;\n",
       "    }\n",
       "\n",
       "    .dataframe thead th {\n",
       "        text-align: right;\n",
       "    }\n",
       "</style>\n",
       "<table border=\"1\" class=\"dataframe\">\n",
       "  <thead>\n",
       "    <tr style=\"text-align: right;\">\n",
       "      <th></th>\n",
       "      <th>reward</th>\n",
       "      <th>person_gender</th>\n",
       "      <th>entity_type</th>\n",
       "      <th>channel</th>\n",
       "      <th>support_interactions</th>\n",
       "      <th>agent_id</th>\n",
       "      <th>customer_score</th>\n",
       "      <th>entity_a</th>\n",
       "      <th>person_age</th>\n",
       "      <th>location</th>\n",
       "      <th>revenue</th>\n",
       "      <th>product_id</th>\n",
       "      <th>trip_length</th>\n",
       "      <th>claim_proba</th>\n",
       "      <th>claim_pred</th>\n",
       "    </tr>\n",
       "  </thead>\n",
       "  <tbody>\n",
       "    <tr>\n",
       "      <th>0</th>\n",
       "      <td>84.316320</td>\n",
       "      <td>9b2d5b46</td>\n",
       "      <td>type_a</td>\n",
       "      <td>web</td>\n",
       "      <td>2</td>\n",
       "      <td>agt_0001</td>\n",
       "      <td>0.009257</td>\n",
       "      <td>96d6c6df</td>\n",
       "      <td>31</td>\n",
       "      <td>ireland</td>\n",
       "      <td>-141.716239</td>\n",
       "      <td>DriveSafe Rental Addon</td>\n",
       "      <td>73</td>\n",
       "      <td>0.149040</td>\n",
       "      <td>0</td>\n",
       "    </tr>\n",
       "    <tr>\n",
       "      <th>1</th>\n",
       "      <td>45.884363</td>\n",
       "      <td>9b2d5b46</td>\n",
       "      <td>type_a</td>\n",
       "      <td>web</td>\n",
       "      <td>0</td>\n",
       "      <td>agt_0001</td>\n",
       "      <td>0.108049</td>\n",
       "      <td>96d6c6df</td>\n",
       "      <td>29</td>\n",
       "      <td>australia</td>\n",
       "      <td>82.225268</td>\n",
       "      <td>DriveSafe Rental Addon</td>\n",
       "      <td>25</td>\n",
       "      <td>0.586419</td>\n",
       "      <td>1</td>\n",
       "    </tr>\n",
       "    <tr>\n",
       "      <th>2</th>\n",
       "      <td>0.000000</td>\n",
       "      <td>9b2d5b46</td>\n",
       "      <td>type_a</td>\n",
       "      <td>web</td>\n",
       "      <td>2</td>\n",
       "      <td>agt_0004</td>\n",
       "      <td>0.108814</td>\n",
       "      <td>50b3e71e</td>\n",
       "      <td>26</td>\n",
       "      <td>indonesia</td>\n",
       "      <td>10.247118</td>\n",
       "      <td>TripGuard Cancel</td>\n",
       "      <td>6</td>\n",
       "      <td>0.186742</td>\n",
       "      <td>0</td>\n",
       "    </tr>\n",
       "    <tr>\n",
       "      <th>3</th>\n",
       "      <td>29.363482</td>\n",
       "      <td>f67ab10a</td>\n",
       "      <td>type_b</td>\n",
       "      <td>web</td>\n",
       "      <td>1</td>\n",
       "      <td>agt_0002</td>\n",
       "      <td>0.215505</td>\n",
       "      <td>7b5dbb09</td>\n",
       "      <td>32</td>\n",
       "      <td>france</td>\n",
       "      <td>83.483247</td>\n",
       "      <td>TravelShield Value</td>\n",
       "      <td>73</td>\n",
       "      <td>0.589238</td>\n",
       "      <td>1</td>\n",
       "    </tr>\n",
       "    <tr>\n",
       "      <th>4</th>\n",
       "      <td>12.440951</td>\n",
       "      <td>08f27188</td>\n",
       "      <td>type_b</td>\n",
       "      <td>web</td>\n",
       "      <td>0</td>\n",
       "      <td>agt_0005</td>\n",
       "      <td>0.194798</td>\n",
       "      <td>99ede4e4</td>\n",
       "      <td>26</td>\n",
       "      <td>singapore</td>\n",
       "      <td>46.679372</td>\n",
       "      <td>TravelShield Plus</td>\n",
       "      <td>32</td>\n",
       "      <td>0.786732</td>\n",
       "      <td>1</td>\n",
       "    </tr>\n",
       "  </tbody>\n",
       "</table>\n",
       "</div>"
      ],
      "text/plain": [
       "      reward person_gender entity_type channel  support_interactions  \\\n",
       "0  84.316320      9b2d5b46      type_a     web                     2   \n",
       "1  45.884363      9b2d5b46      type_a     web                     0   \n",
       "2   0.000000      9b2d5b46      type_a     web                     2   \n",
       "3  29.363482      f67ab10a      type_b     web                     1   \n",
       "4  12.440951      08f27188      type_b     web                     0   \n",
       "\n",
       "   agent_id  customer_score  entity_a  person_age   location     revenue  \\\n",
       "0  agt_0001        0.009257  96d6c6df          31    ireland -141.716239   \n",
       "1  agt_0001        0.108049  96d6c6df          29  australia   82.225268   \n",
       "2  agt_0004        0.108814  50b3e71e          26  indonesia   10.247118   \n",
       "3  agt_0002        0.215505  7b5dbb09          32     france   83.483247   \n",
       "4  agt_0005        0.194798  99ede4e4          26  singapore   46.679372   \n",
       "\n",
       "               product_id  trip_length  claim_proba  claim_pred  \n",
       "0  DriveSafe Rental Addon           73     0.149040           0  \n",
       "1  DriveSafe Rental Addon           25     0.586419           1  \n",
       "2        TripGuard Cancel            6     0.186742           0  \n",
       "3      TravelShield Value           73     0.589238           1  \n",
       "4       TravelShield Plus           32     0.786732           1  "
      ]
     },
     "execution_count": 11,
     "metadata": {},
     "output_type": "execute_result"
    }
   ],
   "source": [
    "# Load test data\n",
    "df_test = pd.read_csv(f\"{raw_input_data_path}/insurance_test.csv\")\n",
    "\n",
    "# Preserve identifier (if exists, e.g., claim_id or other unique ID)\n",
    "# If no identifier exists, keep the index as reference\n",
    "df_test_reset = df_test.reset_index(drop=True)\n",
    "\n",
    "# Apply data transformations - same preprocessing as training set \n",
    "# (preprocessor was already fitted during training)\n",
    "X_test = df_test[log_cols + target_cols].copy()\n",
    "\n",
    "# Generate probabilistic predictions and class predictions\n",
    "claim_proba = best_log.predict_proba(X_test)[:, 1]  # Probability of positive class\n",
    "claim_pred = best_log.predict(X_test)  # Binary class predictions\n",
    "\n",
    "# Combine predictions with original test data\n",
    "df_test_with_preds = df_test_reset.copy()\n",
    "df_test_with_preds['claim_proba'] = claim_proba  # Add probability predictions\n",
    "df_test_with_preds['claim_pred'] = claim_pred    # Add class predictions\n",
    "\n",
    "# Export results and preview\n",
    "df_test_with_preds.to_csv(f\"insurance_test_with_predictions.csv\", index=False)\n",
    "print(\"Test data with predictions preview:\")\n",
    "df_test_with_preds.head()"
   ]
  }
 ],
 "metadata": {
  "kernelspec": {
   "display_name": "Python 3",
   "language": "python",
   "name": "python3"
  },
  "language_info": {
   "codemirror_mode": {
    "name": "ipython",
    "version": 3
   },
   "file_extension": ".py",
   "mimetype": "text/x-python",
   "name": "python",
   "nbconvert_exporter": "python",
   "pygments_lexer": "ipython3",
   "version": "3.13.3"
  }
 },
 "nbformat": 4,
 "nbformat_minor": 4
}
